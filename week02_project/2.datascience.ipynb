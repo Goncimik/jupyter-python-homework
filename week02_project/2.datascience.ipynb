{
 "cells": [
  {
   "cell_type": "code",
   "execution_count": null,
   "id": "59d4d768-f280-4408-9423-9359c4215f92",
   "metadata": {},
   "outputs": [],
   "source": [
    "############################################     Techcareer     #######################################\n",
    "##################################### Yazkampı Veri Bilimine Giriş ####################################\n",
    "###########################################  Ömer Faruk Doğan #########################################\n",
    "############################################   Veri Bilimi  ###########################################\n",
    "##########################################      2. hafta      #########################################\n",
    "###################################       Hafize Gonca Cömert       ###################################    "
   ]
  },
  {
   "cell_type": "code",
   "execution_count": null,
   "id": "aec96d95-e069-4afc-9519-e948ecbd0043",
   "metadata": {},
   "outputs": [],
   "source": [
    "#Soru 1 – Sayı Analizi\n",
    "#Kullanıcıdan bir sayı isteyin.\n",
    "#-Sayı pozitif, negatif ya da sıfır mı kontrol edin.\n",
    "#-Aynı zamanda tek/çift olup olmadığını da belirtin.\n",
    "#-Çıktı örneği: \"Pozitif Çift\" veya \"Negatif Tek\" gibi."
   ]
  },
  {
   "cell_type": "code",
   "execution_count": null,
   "id": "17c21797-4a19-4ca2-abec-697fe14e97a7",
   "metadata": {},
   "outputs": [],
   "source": [
    "sayi = int(input(\"Lütfen bir sayı giriniz: \"))\n",
    "if sayi == 0:\n",
    "    print(\"Sıfır\")\n",
    "else:\n",
    "    print((\"Pozitif\" if sayi > 0 else \"Negatif\") + (\"Çift\" if sayi % 2 == 0 else \" Tek\"))"
   ]
  },
  {
   "cell_type": "code",
   "execution_count": null,
   "id": "cb315c1c-7188-4823-9402-a89fe4676e6f",
   "metadata": {},
   "outputs": [],
   "source": [
    "# Soru 2 – Harf Frekansı (String)\n",
    "# Kullanıcıdan bir kelime alın.\n",
    "# - Hangi harften kaç tane geçtiğini bulun.\n",
    "# - Sonucu dictionary olarak gösterin.\n",
    "# Örnek: \"data\" → {'d': 1, 'a': 2, 't': 1}"
   ]
  },
  {
   "cell_type": "code",
   "execution_count": null,
   "id": "9027b7da-b0e3-4194-8d7f-c4d3296b5222",
   "metadata": {},
   "outputs": [],
   "source": [
    "kelime = input(\"Lütfen bir kelime giriniz: \")\n",
    "print({harf: kelime.count(harf) for harf in kelime})"
   ]
  },
  {
   "cell_type": "code",
   "execution_count": null,
   "id": "e2738db8-51ed-4c3c-aa59-b9c20fe356b7",
   "metadata": {},
   "outputs": [],
   "source": [
    "#Soru 3 – Şifre Kontrolü (String Metotları)\n",
    "#Kullanıcıdan şifre girmesini isteyin. Şifre:\n",
    "# En az 8 karakter olmalı\n",
    "# En az 1 büyük harf içermeli\n",
    "# En az 1 rakam içermeli\n",
    "#Koşulları sağlayıp sağlamadığına göre kullanıcıyı bilgilendirin."
   ]
  },
  {
   "cell_type": "code",
   "execution_count": null,
   "id": "a905fabc-de8e-41ed-9fba-2be15ea729b4",
   "metadata": {},
   "outputs": [],
   "source": [
    "sifre = input(\"Lütfen şifrenizi giriniz: \")\n",
    "buyuk_harf = bool(set(sifre) & set(\"ABCDEFGHIJKLMNOPQRSTUVWXYZ\"))\n",
    "rakam = bool(set(sifre) & set(\"0123456789\"))\n",
    "print(\"Şifre güvenli*\" if len(sifre) >= 8 and buyuk_harf and rakam else \"Şifre güvenli değil!\")"
   ]
  },
  {
   "cell_type": "code",
   "execution_count": null,
   "id": "ee0f3461-4d7b-426c-aaab-c121d21c586e",
   "metadata": {},
   "outputs": [],
   "source": [
    "#Soru 4 – Liste İşlemleri\n",
    "#[12, 4, 9, 25, 30, 7, 18] listesini kullanın.\n",
    "#• Listenin ortalamasını bulun.\n",
    "#• Ortalamadan büyük sayıları ayrı bir listeye atın.\n",
    "#• Sonucu ekrana yazdırın."
   ]
  },
  {
   "cell_type": "code",
   "execution_count": null,
   "id": "e0153959-2ea0-4e17-af37-bd3b2e0c2430",
   "metadata": {},
   "outputs": [],
   "source": [
    "import pandas as pd\n",
    "list = [12, 4, 9, 25, 30, 7, 18]\n",
    "list = pd.Series(list)\n",
    "newlist = list.loc[list > list.mean()].to_list()\n",
    "print(\"Ortalamadan büyük sayılar:\", newlist)"
   ]
  },
  {
   "cell_type": "code",
   "execution_count": null,
   "id": "d0d2ebd2-1bcd-41b8-b96c-bac8bd31a31a",
   "metadata": {},
   "outputs": [],
   "source": [
    "#Soru 5 – Nested Loop (Desen)\n",
    "#Aşağıdaki çıktıyı üreten programı yazın (üçgen desen):"
   ]
  },
  {
   "cell_type": "code",
   "execution_count": null,
   "id": "4e746e54-395a-4780-bd35-92e706294d97",
   "metadata": {},
   "outputs": [],
   "source": [
    "g = 5\n",
    "for i in range(1, g + 1):\n",
    "    print('*' * i)"
   ]
  },
  {
   "cell_type": "code",
   "execution_count": null,
   "id": "ad2467c3-dcf6-46af-a4d0-bcdef047e6f6",
   "metadata": {},
   "outputs": [],
   "source": [
    "#Soru 6 – While Döngüsü\n",
    "#Kullanıcıdan sürekli sayı isteyin.\n",
    "#Kullanıcı 0 girdiğinde program dursun.\n",
    "#Girilen tüm sayıların toplamını ve ortalamasını yazdırın."
   ]
  },
  {
   "cell_type": "code",
   "execution_count": null,
   "id": "cb059def-ca1b-45ac-8cdc-116b00b16fcf",
   "metadata": {},
   "outputs": [],
   "source": [
    "toplam = 0\n",
    "miktar = 0\n",
    "while True:\n",
    "    sayi = int(input(\"Lütfen bir sayı giriniz (Çıkmak için 0 yazınız): \"))\n",
    "    if sayi == 0:\n",
    "        break\n",
    "    toplam += sayi\n",
    "    miktar += 1\n",
    "if miktar > 0:\n",
    "    ortalama = toplam / miktar\n",
    "    print(f\"Sayıların Toplamı: {toplam}\")\n",
    "    print(f\"Sayıların Ortalaması: {ortalama}\")\n",
    "else:\n",
    "    print(\"Hiç sayı girilmedi.\")"
   ]
  },
  {
   "cell_type": "code",
   "execution_count": null,
   "id": "c18f619f-4f05-4911-9b3d-1fb2ddbc235b",
   "metadata": {},
   "outputs": [],
   "source": [
    "#Soru 7 – Palindrom Kontrolü\n",
    "#Kullanıcıdan bir kelime isteyin.\n",
    "# Kelimenin palindrom olup olmadığını kontrol edin.\n",
    "# Örnek: \"kayak\" → Palindrom , \"python\" → Değil"
   ]
  },
  {
   "cell_type": "code",
   "execution_count": null,
   "id": "23e8cec8-3d8f-4ecf-938b-9d164bff3fa3",
   "metadata": {},
   "outputs": [],
   "source": [
    "kelime = input(\"Lütfen bir kelime giriniz: \")\n",
    "ters_kelime = kelime[::-1]\n",
    "if kelime == ters_kelime:\n",
    "    print(f'\"{kelime}\" bir palindromdur.')\n",
    "else:\n",
    "    print(f'\"{kelime}\" bir palindrom değildir.')"
   ]
  },
  {
   "cell_type": "code",
   "execution_count": null,
   "id": "cbccb274-5b41-4d5a-8907-d44ed124a9da",
   "metadata": {},
   "outputs": [],
   "source": [
    "#Soru 8 – List Comprehension\n",
    "#1’den 100’e kadar olan sayılardan:\n",
    "#Hem 3’e hem 5’e bölünebilenlerin karelerini içeren bir liste oluşturun.\n",
    "#Sonucu ekrana yazdırın."
   ]
  },
  {
   "cell_type": "code",
   "execution_count": null,
   "id": "7e616eb2-eb04-4b9f-bf93-c20de4b133bd",
   "metadata": {},
   "outputs": [],
   "source": [
    "list = [x**2 for x in range(1, 101) if x % 3 == 0 and x % 5 == 0]\n",
    "print(f\"Hem 3'e hem 5'e bölünebilen sayıların kareleri:\", )\n",
    "list"
   ]
  },
  {
   "cell_type": "code",
   "execution_count": null,
   "id": "836c3adc-5870-4f9b-8575-d94bf7694adf",
   "metadata": {},
   "outputs": [],
   "source": [
    "#Soru 9 – String İşlemleri\n",
    "#Bir cümle alın.\n",
    "#Cümledeki kelimeleri split() ile ayırın.\n",
    "#Her kelimenin ilk harfini büyük yaparak yeni bir string oluşturun.\n",
    "#Örnek: \"python veri bilimi\" → \"Python Veri Bilimi\""
   ]
  },
  {
   "cell_type": "code",
   "execution_count": null,
   "id": "47a366bb-9084-437b-a116-ca1ba473a675",
   "metadata": {},
   "outputs": [],
   "source": [
    "#cumle = input(\"Lütfen bir cümle giriniz: \")\n",
    "cumle = (\"30 ağutos zafer bayramı\")\n",
    "kelime = cumle.split()\n",
    "cumle1 = [kelime.capitalize() for kelime in kelime]\n",
    "cumle2 = \" \".join(cumle1)\n",
    "print(f\"cumle2:\",)\n",
    "cumle2"
   ]
  },
  {
   "cell_type": "code",
   "execution_count": null,
   "id": "e1085b8e-4b80-442d-b560-c5bcf94c6539",
   "metadata": {},
   "outputs": [],
   "source": [
    "#Mini Proje – Film Yorumu Analizi\n",
    "#Proje Tanımı:\n",
    "#Kullanıcıdan birkaç film yorumu alın (örneğin 5–6 yorum).\n",
    "# Yorumları bir listeye atın.\n",
    "# Her yorumun uzunluğunu (karakter sayısı) bulun.\n",
    "# Kaç yorumda \"iyi\" kelimesi geçtiğini sayın.\n",
    "# En uzun yorumu ve en kısa yorumu ekrana yazdırın.\n",
    "# Tüm yorumların ortalama uzunluğunu hesaplayın.\n",
    "#:Beklenen Çıktı Örneği\n",
    "#Girdi (yorumlar):\n",
    "#[\"Film çok güzeldi\", \"Kötüydü\", \"Ortalama bir filmdi\", \"Gerçekten çok iyi!\", \"İyi ama daha iyi olabilirdi\"]\n",
    "#Çıktı:\n",
    "#Toplam yorum sayısı: 5\n",
    "#\"iyi\" geçen yorum sayısı: 2\n",
    "#En uzun yorum: İyi ama daha iyi olabilirdi\n",
    "#En kısa yorum: Kötüydü\n",
    "#Ortalama uzunluk: 17.4 karakter\"\"\""
   ]
  },
  {
   "cell_type": "code",
   "execution_count": null,
   "id": "539414db-c073-4e3c-a082-22f0b19ac114",
   "metadata": {},
   "outputs": [],
   "source": [
    "yorumlar = [\"Film çok güzeldi.\",\n",
    "            \"Kötüydü.\",\n",
    "            \"Ortalama bir filmdi.\",\n",
    "            \"Gerçekten çok iyi!\",\n",
    "            \"İyi ama daha iyi olabilirdi.\"]\n",
    "toplam_yorum = len(yorumlar)\n",
    "iyi_sayisi = sum(1 for yorum in yorumlar if \"iyi\" in yorum.lower())\n",
    "en_uzun_yorum = max(yorumlar, key=len)\n",
    "en_kisa_yorum = min(yorumlar, key=len)\n",
    "ortalama_uzunluk = sum(len(y) for y in yorumlar) / toplam_yorum\n",
    "print(f'Toplam yorum sayısı: {toplam_yorum}')\n",
    "print(f'\"iyi\" geçen yorum sayısı: {iyi_sayisi}')\n",
    "print(f'\"En uzun yorum\": {en_uzun_yorum}')\n",
    "print(f'\"En kısa yorum\": {en_kisa_yorum}')\n",
    "print(f'\"Ortalama uzunluk\": {ortalama_uzunluk:.1f} karakterdir.')"
   ]
  },
  {
   "cell_type": "code",
   "execution_count": null,
   "id": "1df578cc-17b9-4fde-af9a-237d3aa549c2",
   "metadata": {},
   "outputs": [],
   "source": [
    "### mutlu kodlamalar ###"
   ]
  }
 ],
 "metadata": {
  "kernelspec": {
   "display_name": "Python [conda env:base] *",
   "language": "python",
   "name": "conda-base-py"
  },
  "language_info": {
   "codemirror_mode": {
    "name": "ipython",
    "version": 3
   },
   "file_extension": ".py",
   "mimetype": "text/x-python",
   "name": "python",
   "nbconvert_exporter": "python",
   "pygments_lexer": "ipython3",
   "version": "3.11.5"
  }
 },
 "nbformat": 4,
 "nbformat_minor": 5
}
