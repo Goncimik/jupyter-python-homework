{
 "cells": [
  {
   "cell_type": "code",
   "execution_count": null,
   "id": "c8f32352-2aa7-447b-99e2-f2dbfb5a30c1",
   "metadata": {},
   "outputs": [],
   "source": [
    "############################################     Techcareer     #######################################\n",
    "##############################  Summercamp Introduction to Data Science ###############################\n",
    "###########################################  Ömer Faruk Doğan #########################################\n",
    "############################################   Data Science  ##########################################\n",
    "##########################################        Week 3     ##########################################\n",
    "###################################       Hafize Gonca Cömert       ###################################    "
   ]
  },
  {
   "cell_type": "markdown",
   "id": "bdda4df5-2213-4c53-a3b1-835d384403e3",
   "metadata": {},
   "source": [
    "# 📊 Bu notebook \n",
    " 🗂️ İleri seviye veri yapılarıyla (liste, sözlük, küme) rahatça çalışabilmesi,\n",
    " ⚡ Fonksiyonlar, lambda ve gömülü fonksiyonları etkin kullanabilmesi, \n",
    " 📦 Modüller ve temel istatistiksel hesaplamaların uygulanabilmesi,\n",
    " 📝 Kodlarını düzenli ve okunabilir şekilde yazılabilmesi,\n",
    " 📈 Basit bir veri analizi sürecinin baştan sona gerçekleştirebilmesini içermektedir."
   ]
  },
  {
   "cell_type": "markdown",
   "id": "45e3c68e-8120-4f4a-a74c-8b24e4c0706c",
   "metadata": {},
   "source": [
    "# Soru 1 – Liste Metotları\n",
    "# Bir sınıfta öğrencilerin notları şu şekilde tutuluyor:\n",
    "# 📌 notlar = [85, 92, 76, 92, 100, 76, 85, 92]\n",
    "# 📌 Listedeki tekrar eden notları silip benzersiz bir liste oluşturun.\n",
    "# 📌 En yüksek ve en düşük notu bulun.\n",
    "# 📌 Notları küçükten büyüğe sıralayın."
   ]
  },
  {
   "cell_type": "code",
   "execution_count": null,
   "id": "30abf879-6a61-48e7-ad2b-8ab4873afba9",
   "metadata": {},
   "outputs": [],
   "source": [
    "#öğrenci not listesi\n",
    "notlar = [85, 92, 76, 92, 100, 76, 85, 92]\n",
    "\n",
    "#benzersiz liste\n",
    "unique_notlar = list(set(notlar))\n",
    "print(f\"Benzersiz notlar: {unique_notlar}\")\n",
    "\n",
    "#en yüksek & en düşük not\n",
    "print (f\"En yüksek not: {max(notlar)}\")\n",
    "print (f\"En düşük not: {min(notlar)}\")\n",
    "\n",
    "#notların küçükten büyüğe doğru sıralaması\n",
    "notlar.sort()\n",
    "print(f\"Notların sıralaması:{notlar}\")"
   ]
  },
  {
   "cell_type": "markdown",
   "id": "976b3897-1cba-42bc-bb95-9ca5a9dd98c6",
   "metadata": {},
   "source": [
    "# Soru 2 – Sayılar\n",
    "# Bir sayının Armstrong sayısı olup olmadığını kontrol eden bir Python fonksiyonu yazın.\n",
    "# Armstrong sayısı: Her basamağının küplerinin toplamı kendisine eşit olan sayılar.\n",
    "# 📌 Örn: 153 → 1³+5³+3³ = 153"
   ]
  },
  {
   "cell_type": "code",
   "execution_count": null,
   "id": "027d639a-cf6a-4d19-a68b-f62396264e39",
   "metadata": {},
   "outputs": [],
   "source": [
    "# Armstrong sayısı: Her basamağının küplerinin toplamı kendisine eşit olan sayılardır.\n",
    "def armstrong_mu(n):\n",
    "    toplam = 0\n",
    "    basamak_sayisi = len(str(n))\n",
    "    for rakam in str(n):\n",
    "        toplam += int(rakam) ** basamak_sayisi\n",
    "    return toplam == n\n",
    "\n",
    "# Lütfen iki sayı giriniz.\n",
    "sayi1, sayi2 = map(int, input(\"Lütfen iki sayı giriniz (boşluk ile ayırınız): \").split())\n",
    "\n",
    "# Armstrong sayısı kontrolü\n",
    "for sayi in [sayi1, sayi2]:\n",
    "    if armstrong_mu(sayi):\n",
    "        print(f\"{sayi} bir Armstrong sayısıdır ✅\")\n",
    "    else:\n",
    "        print(f\"{sayi} bir Armstrong sayısı değildir ❌\")\n",
    "        \n",
    "#armstrong_sayilari[1, 153, 370, 371, 407]"
   ]
  },
  {
   "cell_type": "markdown",
   "id": "85c98bae-c509-4770-b5b9-6e8f9ff870fe",
   "metadata": {},
   "source": [
    "# Soru 3 – Kümeler\n",
    "# Aşağıdaki iki küme verilmiştir:\n",
    "# 📌 A = {\"Python\", \"R\", \"SQL\", \"Java\"}\n",
    "# 📌 B = {\"C++\", \"Python\", \"JavaScript\", \"SQL\"}\n",
    "# 📌 Ortak dilleri bulun.\n",
    "# 📌 Sadece A’da olan dilleri listeleyin.\n",
    "# 📌 İki kümenin birleşimini alfabetik olarak yazdırın."
   ]
  },
  {
   "cell_type": "code",
   "execution_count": null,
   "id": "6eed409e-77b9-4cd8-a1c6-109b8b7a3723",
   "metadata": {},
   "outputs": [],
   "source": [
    "# Kümeler\n",
    "A = {\"Python\", \"R\", \"SQL\", \"Java\"}\n",
    "B = {\"C++\", \"Python\", \"JavaScript\", \"SQL\"}\n",
    "\n",
    "# İstenilen durumlar\n",
    "ortak = A & B\n",
    "sadece_A = A - B\n",
    "birlesim = sorted(A | B)\n",
    "\n",
    "# Ortak diller\n",
    "print(\"Ortak diller:\")\n",
    "for dil in ortak:\n",
    "    print(\"*\", dil)\n",
    "\n",
    "# Sadece A'da olan diller\n",
    "print(\"\\nSadece A kümesinde olan diller:\")\n",
    "for dil in sadece_A:\n",
    "    print(\"*\", dil)\n",
    "\n",
    "# Alfabetik olarak iki kümenin birleşimi\n",
    "print(\"\\nAlfabetik olarak iki kümenin birleşimi:\")\n",
    "for dil in birlesim:\n",
    "    print(\"*\", dil)"
   ]
  },
  {
   "cell_type": "markdown",
   "id": "b3808282-582e-4acf-b8a0-b59c9c960f71",
   "metadata": {},
   "source": [
    "# Soru 4 – Modüller\n",
    "# 📌 random modülünü kullanarak 1–100 arasında 10 rastgele sayı üretin.\n",
    "# 📌 Bu sayıların ortalamasını ve standart sapmasını statistics modülü ile hesaplayın."
   ]
  },
  {
   "cell_type": "code",
   "execution_count": null,
   "id": "a3ce1f99-a2d5-48e6-a524-8c2af7c4a018",
   "metadata": {},
   "outputs": [],
   "source": [
    "# Modüller\n",
    "import random\n",
    "import statistics\n",
    "\n",
    "# 1–100 arasında 10 rastgele sayı üretme\n",
    "sayilar = [random.randint(1, 100) for _ in range(10)]\n",
    "print(\"Rastgele sayılar:\", sayilar)\n",
    "\n",
    "# Ortalama ve standart sapma hesapla\n",
    "ortalama = statistics.mean(sayilar)\n",
    "std_sapma = statistics.stdev(sayilar)\n",
    "\n",
    "print(f\"Ortalama: {ortalama:.3f}\")\n",
    "print(f\"Standart Sapma: {std_sapma:.2f}\")"
   ]
  },
  {
   "cell_type": "markdown",
   "id": "4f01d52f-2c0a-421b-8909-3612828e89a6",
   "metadata": {},
   "source": [
    "# Soru 5 – Fonksiyonlar\n",
    "# kelime_sayacı(metin) adında bir fonksiyon yazın.\n",
    "# Fonksiyon verilen metindeki:\n",
    "# 📌 toplam kelime sayısını\n",
    "# 📌 en uzun kelimeyi\n",
    "# 📌 en sık geçen kelimeyi döndürsün."
   ]
  },
  {
   "cell_type": "code",
   "execution_count": null,
   "id": "06fe465a-970c-4759-9153-88dc4f13c5ac",
   "metadata": {},
   "outputs": [],
   "source": [
    "# Kelime_sayacı(metin) fonksiyonu oluşturma\n",
    "from collections import Counter\n",
    "def kelime_sayacı(metin):\n",
    "    kelimeler = metin.lower().replace(\",\", \"\").replace(\".\", \"\").split()\n",
    "    return len(kelimeler), max(kelimeler, key=len), Counter(kelimeler).most_common(1)[0][0]\n",
    "\n",
    "# Metin\n",
    "metin = (\n",
    "    \"Python programlama dili, veri analizi, istatistiksel modelleme ve makine öğrenmesi uygulamaları için yaygın olarak kullanılır. \" \n",
    "    \"Programlama becerilerinin geliştirilmesi, teorik bilgi ile pratik uygulamaların birleştirilmesi ile mümkündür. \"\n",
    "    \"Bu bağlamda, Techcareer.net Yaz Kampı: Veri Bilimi eğitimi, \"\n",
    "    \"katılımcılara Python ile veri bilimi mini projeleri uygulamalarına imkân tanımaktadır. \"\n",
    "    \"Eğitmenimiz Ömer Faruk Doğan ve techcareer.net ailesine teşekkürlerimi sunuyorum.\")\n",
    "\n",
    "# Çıktı\n",
    "toplam, en_uzun, en_sik = kelime_sayacı(metin)\n",
    "print(\"Toplam kelime sayısı:\", toplam)\n",
    "print(\"En uzun kelime:\", en_uzun)\n",
    "print(\"En sık geçen kelime:\", en_sik)"
   ]
  },
  {
   "cell_type": "markdown",
   "id": "1643e2d7-4a94-4fff-9161-29191075be93",
   "metadata": {},
   "source": [
    "# Soru 6 – Gömülü Fonksiyonlar\n",
    "# Aşağıdaki liste için map, filter, sorted gibi gömülü fonksiyonları kullanarak:\n",
    "# 📌 sayilar = [5, 12, 7, 18, 24, 3, 16]\n",
    "# 📌 Sadece çift sayıları filtreleyin.\n",
    "# 📌 Bu sayıların karelerini bulun.\n",
    "# 📌 Karelerini azalan sırada sıralayın."
   ]
  },
  {
   "cell_type": "code",
   "execution_count": null,
   "id": "81ab3c8a-f3d8-42d8-9d96-801c649ecff3",
   "metadata": {},
   "outputs": [],
   "source": [
    "# Gömülü fonksiyonlar (map, filter, sorted)\n",
    "sayilar = [5, 12, 7, 18, 24, 3, 16]\n",
    "\n",
    "# Sadece çift sayılar\n",
    "cift_sayilar = list(filter(lambda x: x % 2 == 0, sayilar))\n",
    "\n",
    "# Sayıların kareleri\n",
    "kareler = list(map(lambda x: x**2, cift_sayilar))\n",
    "\n",
    "# Azalan sıralama ile kareler\n",
    "kareler_azalan_sirali = sorted(kareler, reverse=True)\n",
    "\n",
    "# Çıktı\n",
    "print(f\"çift sayılar:{cift_sayilar}\")\n",
    "print(f\"sayıların kareleri:{kareler}\")\n",
    "print(f\"karelerinin azalan sıralaması: {kareler_azalan_sirali} \")"
   ]
  },
  {
   "cell_type": "markdown",
   "id": "25ef4bda-3e15-4571-80eb-2fe085dffe8a",
   "metadata": {},
   "source": [
    "# Soru 7 – Lambda İfadeleri\n",
    "# Aşağıdaki listeyi, her kelimenin uzunluğuna göre küçükten büyüğe sıralayın.\n",
    "# 📌 kelimeler = [\"veri\", \"bilim\", \"analiz\", \"yapayzeka\", \"python\"]\n",
    "# 📌 Bunu sorted + lambda ile yapın."
   ]
  },
  {
   "cell_type": "code",
   "execution_count": null,
   "id": "add102ee-c950-4d86-852b-a567eb885ed0",
   "metadata": {},
   "outputs": [],
   "source": [
    "# Lambda ifadeleri\n",
    "kelimeler = [\"veri\", \"bilim\", \"analiz\", \"yapayzeka\", \"python\"]\n",
    "\n",
    "# Sorted + lambda \n",
    "g = sorted(kelimeler, key=lambda x: len(x))\n",
    "print(f\"Listedeki her kelimenin uzunluğuna göre küçükten büyüğe doğru sıralaması: {g}\")"
   ]
  },
  {
   "cell_type": "markdown",
   "id": "1a04cca7-5594-4bfe-ab04-1ff4b5944d70",
   "metadata": {},
   "source": [
    "# Soru 8 – Metodlar\n",
    "# Bir string içinde geçen tüm rakamları bulun ve bunların toplamını döndüren bir fonksiyon yazın.\n",
    "# 📌 Örn: \"abc12def3\" → 12 + 3 = 15"
   ]
  },
  {
   "cell_type": "code",
   "execution_count": null,
   "id": "80e9741e-c830-4b5c-a796-68b223bed8a4",
   "metadata": {},
   "outputs": [],
   "source": [
    "# Metodlar\n",
    "g = \"gogo41ozi2\"\n",
    "def gogo(g):\n",
    "    return sum(int(ch) for ch in metin if ch.isdigit())\n",
    "\n",
    "# Çıktı\n",
    "print(f\"rakamlar toplamı: {gogo(g)}\")"
   ]
  },
  {
   "cell_type": "markdown",
   "id": "7aa0453e-b83e-4839-989b-9429b24751c8",
   "metadata": {},
   "source": [
    "# Soru 9 – (Ekstra) Numpy 1\n",
    "# 📌 10 elemanlı bir numpy dizisi oluşturun.\n",
    "# 📌 Elemanlar 0–50 arasında rastgele sayılar olsun.\n",
    "# 📌 Dizinin ortalamasını, standart sapmasını ve en büyük değerini bulun."
   ]
  },
  {
   "cell_type": "code",
   "execution_count": null,
   "id": "d1274f82-c0a5-4209-aff0-11f3baa2dbd4",
   "metadata": {},
   "outputs": [],
   "source": [
    "# Gerekli kütüphane\n",
    "import numpy as np\n",
    "\n",
    "# 10 elemanlı rastgele bir numpy dizisi (0-50 arası)\n",
    "dizi = np.random.randint(0, 51, size=10)\n",
    "\n",
    "# Ortalama, standart sapma, maksimum değer\n",
    "ortalama = dizi.mean()\n",
    "std = dizi.std()\n",
    "maks = dizi.max()\n",
    "\n",
    "# Çıktı\n",
    "print(\"Dizi:\", dizi)\n",
    "print(\"Ortalama:\", ortalama)\n",
    "print(\"Standart Sapma:\", std)\n",
    "print(\"Maksimum:\", maks)"
   ]
  },
  {
   "cell_type": "markdown",
   "id": "217b867d-14da-438b-95be-1602d6302126",
   "metadata": {},
   "source": [
    "# Soru 10 – (Ekstra) Numpy 2\n",
    "# 📌 5x5 boyutunda rastgele 0–1 arasında değerlerden oluşan bir numpy matrisi üretin.\n",
    "# 📌 Her sütunun ortalamasını bulun.\n",
    "# 📌 0.5’ten büyük olan değerleri 1, küçük eşit olanları 0 yaparak binary matris oluşturun."
   ]
  },
  {
   "cell_type": "code",
   "execution_count": null,
   "id": "0db6b181-d06f-45d3-926a-89e4685689e1",
   "metadata": {},
   "outputs": [],
   "source": [
    "# Gerekli kütüphane\n",
    "import numpy as np\n",
    "\n",
    "# 5x5 rastgele bir numpy matris (0-1 arası)\n",
    "matris = np.random.rand(5,5)\n",
    "\n",
    "# Her sütunun ortalaması\n",
    "ortalama = matris.mean(axis=0)\n",
    "\n",
    "# 0.5'ten büyük ise 1, küçük veya eşit ise 0)\n",
    "binary_matris = (matris > 0.5).astype(int)\n",
    "\n",
    "# Çıktı\n",
    "print(\"Matris:\\n\", matris)\n",
    "print(\"\\nOrtalamalar:\", ortalama)\n",
    "print(\"\\nBinary matris:\\n\", binary_matris)"
   ]
  },
  {
   "cell_type": "code",
   "execution_count": null,
   "id": "ef079dc9-7f9a-42de-a027-782dcfc95234",
   "metadata": {},
   "outputs": [],
   "source": [
    "g = \"gogo\"\n",
    "print(f\"mutlu kodlamalar\\n{g:>15}\")  "
   ]
  }
 ],
 "metadata": {
  "kernelspec": {
   "display_name": "Python [conda env:base] *",
   "language": "python",
   "name": "conda-base-py"
  },
  "language_info": {
   "codemirror_mode": {
    "name": "ipython",
    "version": 3
   },
   "file_extension": ".py",
   "mimetype": "text/x-python",
   "name": "python",
   "nbconvert_exporter": "python",
   "pygments_lexer": "ipython3",
   "version": "3.11.5"
  }
 },
 "nbformat": 4,
 "nbformat_minor": 5
}
