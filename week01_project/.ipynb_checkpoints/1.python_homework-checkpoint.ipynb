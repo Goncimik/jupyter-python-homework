{
 "cells": [
  {
   "cell_type": "code",
   "execution_count": 27,
   "id": "72dcd50c-5a24-47e3-b2fa-71391a71f8cd",
   "metadata": {},
   "outputs": [],
   "source": [
    "############################################     Techcareer     #######################################\n",
    "################################ Summercamp Introduction to Data Science ##############################\n",
    "###########################################  Ömer Faruk Doğan #########################################\n",
    "############################################     Python     ###########################################\n",
    "##########################################        Week 1      #########################################\n",
    "###################################       Hafize Gonca Cömert       ###################################    "
   ]
  },
  {
   "cell_type": "code",
   "execution_count": null,
   "id": "60062ce4-128e-4a7a-9cb3-f65968144a7e",
   "metadata": {},
   "outputs": [],
   "source": [
    "#Python Ödev Dokümanı: Veri Tipleri ve Operatörler\n",
    "\"\"\"\n",
    "Bu ödev dokümanı, Python'da şimdiye kadar işlenen konuları (Veri Tipleri ve Operatörler) pekiştirmek için hazırlanmıştır.\n",
    "Aşağıdaki görevlerde, öğrendiklerinizi uygulamanız beklenmektedir. \n",
    "Her bir görevi ayrı bir Python dosyasında ya da Jupyter Notebook hücresinde çözebilirsiniz.\n",
    "\"\"\""
   ]
  },
  {
   "cell_type": "code",
   "execution_count": 29,
   "id": "e123cfc9-3a12-45c7-9db7-74ca0baa58da",
   "metadata": {},
   "outputs": [],
   "source": [
    "########################                 Bölüm 1: Veri Tipleri                   #######################"
   ]
  },
  {
   "cell_type": "code",
   "execution_count": null,
   "id": "27ab1f73-9dc6-4131-8232-60dc469b49b1",
   "metadata": {},
   "outputs": [],
   "source": [
    "#1. Kullanıcıdan adını, yaşını ve boyunu (float) input() ile alınız. \n",
    "#Bu bilgileri uygun veri tiplerinde değişkenlerde saklayınız ve ekrana anlamlı bir şekilde yazdırınız."
   ]
  },
  {
   "cell_type": "code",
   "execution_count": 31,
   "id": "f3742fa2-4936-494d-aeaa-1c3574695d8c",
   "metadata": {},
   "outputs": [
    {
     "name": "stdout",
     "output_type": "stream",
     "text": [
      "Hafize Gonca Cömert 30 1.7\n",
      "<class 'str'>\n",
      "<class 'str'>\n",
      "<class 'int'>\n",
      "<class 'float'>\n"
     ]
    }
   ],
   "source": [
    "#1\n",
    "ad = \"Hafize Gonca\"\n",
    "soyad = \"Cömert\"\n",
    "yas = 30\n",
    "boy = 1.70\n",
    "\n",
    "print(ad, soyad, yas, boy)\n",
    "print(type(ad))\n",
    "print(type(soyad))\n",
    "print(type(yas))\n",
    "print(type(boy))"
   ]
  },
  {
   "cell_type": "code",
   "execution_count": null,
   "id": "a7b69b1f-c929-4b1b-9b5b-3e99853c8556",
   "metadata": {},
   "outputs": [],
   "source": [
    "#2. Bir öğrencinin notlarını (Matematik, Fizik, Kimya) int tipinde değişkenlere atayın. \n",
    "#Ortalamasını float tipinde hesaplayıp ekrana yazdırınız."
   ]
  },
  {
   "cell_type": "code",
   "execution_count": 33,
   "id": "99a2aaa9-f139-4ae8-bdca-1a67d3401077",
   "metadata": {},
   "outputs": [
    {
     "name": "stdout",
     "output_type": "stream",
     "text": [
      "85.0\n",
      "<class 'float'>\n"
     ]
    }
   ],
   "source": [
    "#2\n",
    "matematik = 85\n",
    "fizik =  95\n",
    "kimya =  75\n",
    "\n",
    "ortalama = (matematik + fizik + kimya ) / 3\n",
    "print(ortalama)\n",
    "print(type(ortalama))"
   ]
  },
  {
   "cell_type": "code",
   "execution_count": null,
   "id": "2641ea0e-d0a2-4db0-a1ae-773ce0b28a4b",
   "metadata": {},
   "outputs": [],
   "source": [
    "#3. Bir string değişkeni tanımlayın. \n",
    "#Bu stringin ilk ve son karakterini, uzunluğunu ve ters çevrilmiş halini ekrana yazdırınız."
   ]
  },
  {
   "cell_type": "code",
   "execution_count": 37,
   "id": "7edabf32-6887-405b-b945-673b7bebb92f",
   "metadata": {},
   "outputs": [
    {
     "name": "stdout",
     "output_type": "stream",
     "text": [
      "g\n",
      "k\n",
      "8\n",
      "kimicnog\n"
     ]
    }
   ],
   "source": [
    "#3\n",
    "g = \"goncimik\"\n",
    "\n",
    "print(g[0])       # ilk karakter\n",
    "print(g[-1])      # son karakter\n",
    "print(len(g))     # uzunluk\n",
    "print(g[::-1])    # ters çevrilmiş hali"
   ]
  },
  {
   "cell_type": "code",
   "execution_count": 39,
   "id": "8070c7ed-65c3-40aa-ba81-6678de06a9dd",
   "metadata": {},
   "outputs": [],
   "source": [
    "########################             Bölüm 2: Operatörler                     #######################"
   ]
  },
  {
   "cell_type": "code",
   "execution_count": null,
   "id": "503c8de2-6f57-41bd-b3ba-85468181f42b",
   "metadata": {},
   "outputs": [],
   "source": [
    "#4. Kullanıcıdan iki sayı alınız. \n",
    "#Bu sayılar üzerinde toplama, çıkarma, çarpma, bölme ve mod işlemleri yapınız."
   ]
  },
  {
   "cell_type": "code",
   "execution_count": 41,
   "id": "616d9127-0637-4215-a1e7-1cda60543393",
   "metadata": {},
   "outputs": [
    {
     "name": "stdout",
     "output_type": "stream",
     "text": [
      "26\n",
      "12\n",
      "133\n",
      "2.7142857142857144\n",
      "5\n"
     ]
    }
   ],
   "source": [
    "#4\n",
    "x = 19\n",
    "y = 7\n",
    "\n",
    "print(x+y) # toplama\n",
    "print(x-y) # çıkarma\n",
    "print(x*y) # çarpma\n",
    "print(x/y) # bölme\n",
    "print(x%y) # mod"
   ]
  },
  {
   "cell_type": "code",
   "execution_count": null,
   "id": "f7b59e77-c2cf-4d4e-b752-8b59caed24b1",
   "metadata": {},
   "outputs": [],
   "source": [
    "#5. Bir öğrencinin ortalaması 50’den büyükse 'Geçti', değilse 'Kaldı' çıktısını veren bir program yazınız. \n",
    "#(Karşılaştırma ve mantıksal operatörler kullanılacak.)"
   ]
  },
  {
   "cell_type": "code",
   "execution_count": 43,
   "id": "20266b84-9051-4659-a162-e3645b788a72",
   "metadata": {},
   "outputs": [
    {
     "name": "stdout",
     "output_type": "stream",
     "text": [
      "True\n",
      "False\n",
      "Geçti\n"
     ]
    }
   ],
   "source": [
    "#5\n",
    "ortalama = 70\n",
    "print(ortalama > 50)    # True\n",
    "print(ortalama < 50)    # False\n",
    "\n",
    "ort = 55\n",
    "print([\"Kaldı\", \"Geçti\"][ort > 50])"
   ]
  },
  {
   "cell_type": "code",
   "execution_count": null,
   "id": "2bea454b-f58b-46d7-9eec-383691bfc76e",
   "metadata": {},
   "outputs": [],
   "source": [
    "#6. Kullanıcıdan yaşını alınız. \n",
    "#Eğer yaş 18’den büyükse 'Ehliyet alabilirsiniz', değilse 'Ehliyet alamazsınız' çıktısı veriniz."
   ]
  },
  {
   "cell_type": "code",
   "execution_count": 45,
   "id": "1f92fb3d-32a6-4de3-840a-d5f1c25795f6",
   "metadata": {},
   "outputs": [
    {
     "name": "stdout",
     "output_type": "stream",
     "text": [
      "Ehliyet alabilirsiniz\n"
     ]
    }
   ],
   "source": [
    "#6\n",
    "yas = 20\n",
    "print([\"Ehliyet alamazsınız\", \"Ehliyet alabilirsiniz\"][yas > 18])"
   ]
  },
  {
   "cell_type": "code",
   "execution_count": null,
   "id": "79b816aa-5489-4212-a399-dc75ae12c9a4",
   "metadata": {},
   "outputs": [],
   "source": [
    "#7. Bir ürünün fiyatını (float) ve indirim oranını (yüzde) alınız. \n",
    "#İndirimli fiyatı hesaplayıp ekrana yazdırınız. (Aritmetik operatörler kullanılacak.)"
   ]
  },
  {
   "cell_type": "code",
   "execution_count": 47,
   "id": "239a26c8-7f1d-44de-9fbf-798e6a72d360",
   "metadata": {},
   "outputs": [
    {
     "name": "stdout",
     "output_type": "stream",
     "text": [
      "İndirimli fiyat: 79.92\n"
     ]
    }
   ],
   "source": [
    "#7\n",
    "kitap_fiyati = 99.9\n",
    "indirim_orani = 20  # % olarak\n",
    "\n",
    "indirim_miktari = kitap_fiyati * indirim_orani / 100\n",
    "indirimli_fiyati = kitap_fiyati - indirim_miktari\n",
    "\n",
    "print(\"İndirimli fiyat:\", indirimli_fiyati)"
   ]
  },
  {
   "cell_type": "code",
   "execution_count": null,
   "id": "a7c7534c-64f2-4486-b7c6-f09cc8b1d66d",
   "metadata": {},
   "outputs": [],
   "source": [
    "#8. True ve False değerlerini içeren değişkenlerle mantıksal operatörleri (and, or, not) uygulayarak örnekler yapınız \n",
    "#ve sonuçlarını ekrana yazdırınız."
   ]
  },
  {
   "cell_type": "code",
   "execution_count": 49,
   "id": "e0b10a79-be5b-4fd4-9a7b-5e4edc63542a",
   "metadata": {},
   "outputs": [
    {
     "name": "stdout",
     "output_type": "stream",
     "text": [
      "False\n",
      "True\n",
      "False\n",
      "True\n"
     ]
    }
   ],
   "source": [
    "#8\n",
    "g = True\n",
    "o = False\n",
    "\n",
    "print(g and o)      \n",
    "print(g or o)            \n",
    "print(not g)                    \n",
    "print(not o) "
   ]
  },
  {
   "cell_type": "code",
   "execution_count": 51,
   "id": "446b72e9-a6d4-4427-a3f8-f4a82cf4df63",
   "metadata": {},
   "outputs": [],
   "source": [
    "############################                  Bölüm 3: Mini Proje          #############################"
   ]
  },
  {
   "cell_type": "code",
   "execution_count": null,
   "id": "c5eefaf8-c1f4-4ef0-8fc9-ca96f26c2f85",
   "metadata": {},
   "outputs": [],
   "source": [
    "#9. Küçük bir alışveriş sepeti uygulaması yapınız:\n",
    "\"\"\"\n",
    "- Kullanıcıdan 3 ürünün fiyatını alınız.\n",
    "- Toplam fiyatı hesaplayınız.\n",
    "- Eğer toplam fiyat 200 TL’den fazlaysa %10 indirim uygulayınız.\n",
    "- Son fiyatı ekrana yazdırınız.\n",
    "\"\"\""
   ]
  },
  {
   "cell_type": "code",
   "execution_count": 19,
   "id": "ed584a98-353e-4630-a6b0-088c0cd64de1",
   "metadata": {},
   "outputs": [
    {
     "name": "stdout",
     "output_type": "stream",
     "text": [
      "301.25\n",
      "271.125\n"
     ]
    }
   ],
   "source": [
    "#9\n",
    "urun1 = 85.50\n",
    "urun2 = 120\n",
    "urun3 = 95.75\n",
    "toplam = urun1 + urun2 + urun3\n",
    "print(toplam)\n",
    "\n",
    "if toplam > 200:\n",
    "    son_fiyat = toplam * 0.9\n",
    "print(son_fiyat)"
   ]
  },
  {
   "cell_type": "code",
   "execution_count": null,
   "id": "f97bd7f7-2784-4f1a-a2df-6f9e058619fd",
   "metadata": {},
   "outputs": [],
   "source": [
    "#10. Kullanıcıdan doğum yılını alınız. Bu yıl ile güncel yılı kullanarak yaşını hesaplayınız. \n",
    "#Yaşına göre şu mesajlardan birini veriniz:\n",
    "\"\"\"\n",
    "- 0-12: 'Çocuksunuz'\n",
    "- 13-17: 'Ergensiniz'\n",
    "- 18 ve üzeri: 'Yetişkinsiniz'\n",
    "Not: Çözümlerde sadece veri tipleri ve operatörler konularını kullanmanız beklenmektedir. \n",
    "Fonksiyonlar, döngüler veya ileri seviye konular henüz kullanılmayacaktır.\n",
    "\"\"\""
   ]
  },
  {
   "cell_type": "code",
   "execution_count": 55,
   "id": "e9e9ff48-211c-482d-b18a-35eae86654eb",
   "metadata": {},
   "outputs": [
    {
     "name": "stdout",
     "output_type": "stream",
     "text": [
      "Yetişkinsiniz\n"
     ]
    }
   ],
   "source": [
    "#10\n",
    "dogum_yili = 2000\n",
    "guncel_yil = 2025\n",
    "\n",
    "yas = guncel_yil - dogum_yili\n",
    "yas_grubu = [\"Çocuksunuz\", \"Ergensiniz\", \"Yetişkinsiniz\"][\n",
    "    (yas > 12) + (yas > 17)]\n",
    "\n",
    "print(yas_grubu)"
   ]
  },
  {
   "cell_type": "code",
   "execution_count": 1,
   "id": "967965ff-435c-4ba9-b4f8-744dfb5a84bb",
   "metadata": {},
   "outputs": [
    {
     "name": "stdout",
     "output_type": "stream",
     "text": [
      "mutlu kodlamalar\n",
      "           gogo\n"
     ]
    }
   ],
   "source": [
    "g = \"gogo\"\n",
    "print(f\"mutlu kodlamalar\\n{g:>15}\") "
   ]
  },
  {
   "cell_type": "code",
   "execution_count": null,
   "id": "99e1774e-5cf6-4bfa-8f3e-05930de93003",
   "metadata": {},
   "outputs": [],
   "source": []
  }
 ],
 "metadata": {
  "kernelspec": {
   "display_name": "Python [conda env:base] *",
   "language": "python",
   "name": "conda-base-py"
  },
  "language_info": {
   "codemirror_mode": {
    "name": "ipython",
    "version": 3
   },
   "file_extension": ".py",
   "mimetype": "text/x-python",
   "name": "python",
   "nbconvert_exporter": "python",
   "pygments_lexer": "ipython3",
   "version": "3.11.5"
  }
 },
 "nbformat": 4,
 "nbformat_minor": 5
}
