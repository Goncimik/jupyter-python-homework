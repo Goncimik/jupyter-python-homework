{
 "cells": [
  {
   "cell_type": "code",
   "execution_count": null,
   "id": "59d4e406-db7d-40d7-ab5f-2d0a016c5d17",
   "metadata": {},
   "outputs": [],
   "source": [
    "############################################     Techcareer     #######################################\n",
    "##############################  Summercamp Introduction to Data Science ###############################\n",
    "###########################################  Ömer Faruk Doğan #########################################\n",
    "############################################   Data Science  ##########################################\n",
    "##########################################        Week 4     ##########################################\n",
    "###################################       Hafize Gonca Cömert       ###################################   "
   ]
  },
  {
   "cell_type": "markdown",
   "id": "8ab276ae-7a7a-4440-b83b-913dd4586bb0",
   "metadata": {},
   "source": [
    "## 📖 Bu notebook\n",
    "# 📗 Veri Bilimi Ödevi – Numpy ve Pandas Uygulamalarından\n",
    "# 🔢 Numpy ile Matris İşlemleri\n",
    "# 🎲 Numpy ile Veri Simülasyonu\n",
    "# 📊 Pandas ile Veri Analizi\n",
    "# 📉 Matplotlib & Seaborn ile Histogram ve Bar grafiklerini içermektedir."
   ]
  },
  {
   "cell_type": "markdown",
   "id": "4d53b37b-2649-4182-a79a-a66c1485c555",
   "metadata": {},
   "source": [
    "## 📌 Numpy Bölümü\n",
    "# 1.1. Numpy ile Matris İşlemleri\n",
    "\"\"\"\n",
    "Aşağıdaki adımları uygulayın:\n",
    "- 5x5 boyutunda rastgele (0-100 arasında) tam sayılardan oluşan bir matris oluşturun.\n",
    "- Bu matrisin:\n",
    "  • Ortalama, standart sapma ve varyansını hesaplayın.\n",
    "  • En büyük ve en küçük değerlerini bulun.\n",
    "  • Köşegenindeki elemanların toplamını bulun.\n",
    "  \n",
    "\"\"\""
   ]
  },
  {
   "cell_type": "code",
   "execution_count": 194,
   "id": "433321ed-f4bf-4910-9fd5-76f64a17bac4",
   "metadata": {},
   "outputs": [
    {
     "name": "stdout",
     "output_type": "stream",
     "text": [
      "~ ~ ~  Özet İstatistikler ~ ~ ~\n",
      "* Ortalama : 40.64\n",
      "* Standart Sapma : 28.778992338162222\n",
      "* Varyans : 828.2303999999999\n",
      "* En Büyük Değer : 99\n",
      "* En Küçük Değer : 2\n",
      "* Köşegenindeki Elemanların Toplamı : 205\n"
     ]
    }
   ],
   "source": [
    "##  Numpy Bölümü\n",
    "# 1.1. Numpy ile Matris İşlemleri\n",
    "# Gerekli kütüphane\n",
    "import numpy as np\n",
    "\n",
    "# Rastgele veri seti\n",
    "Matris = np.random.randint(0, 100, size=(5, 5))\n",
    "\n",
    "# Özet istatistikler\n",
    "istatistikler = {\n",
    "    \"Ortalama\": Matris.mean(),\n",
    "    \"Standart Sapma\": Matris.std(),\n",
    "    \"Varyans\": Matris.var(),\n",
    "    \"En Büyük Değer\": Matris.max(),\n",
    "    \"En Küçük Değer\": Matris.min(),\n",
    "    \"Köşegenindeki Elemanların Toplamı\": np.trace(Matris)}\n",
    "\n",
    "# Sonuçlar\n",
    "print(\"~ ~ ~  Özet İstatistikler ~ ~ ~\")\n",
    "for isim, deger in istatistikler.items():\n",
    "    print(\"*\", isim, \":\", deger)\n"
   ]
  },
  {
   "cell_type": "markdown",
   "id": "38bb8f27-212b-4e4c-8d20-340a2839c845",
   "metadata": {},
   "source": [
    "## 📌  Numpy Bölümü\n",
    "# 2.2. Numpy ile Veri Simülasyonu\n",
    "\"\"\"\n",
    "Aşağıdaki adımları uygulayın:\n",
    "- 1000 adet öğrencinin sınav puanlarını (0-100 arası, normal dağılımdan gelen) simüle edin.\n",
    "- Ortalama, medyan ve standart sapmayı hesaplayın.\n",
    "- 50’den düşük alan kaç öğrenci olduğunu bulun.\n",
    "\n",
    "\"\"\""
   ]
  },
  {
   "cell_type": "code",
   "execution_count": 196,
   "id": "85fc31b6-06e6-460b-a7fb-f599f9bb9fff",
   "metadata": {},
   "outputs": [
    {
     "name": "stdout",
     "output_type": "stream",
     "text": [
      "~ ~ ~ ÖZET İSTATİSTİKLER ~ ~ ~\n",
      "* Ortalama : 50.28218986497506\n",
      "* Medyan : 50.379509183523325\n",
      "* Standart Sapma : 14.652415635977047\n",
      "* 50'den düşük alan öğrenci sayısı : 490\n"
     ]
    }
   ],
   "source": [
    "## Numpy Bölümü\n",
    "# 2.2. Numpy ile Veri Simülasyonu\n",
    "# Gerekli kütüphane\n",
    "import numpy as np\n",
    "\n",
    "# Veri seti\n",
    "np.random.seed(42) \n",
    "test_scores = np.random.normal(loc=50, scale=15, size=1000)  \n",
    "test_scores = np.clip(scores, 0, 100)  \n",
    "\n",
    "# İstatistikler\n",
    "stats = {\n",
    "    \"Ortalama\": np.mean(test_scores),\n",
    "    \"Medyan\": np.median(test_scores),\n",
    "    \"Standart Sapma\": np.std(test_scores),\n",
    "    \"50'den düşük alan öğrenci sayısı\": np.sum(test_scores < 50)}\n",
    "\n",
    "# Sonuçlar\n",
    "print(\"~ ~ ~ ÖZET İSTATİSTİKLER ~ ~ ~\")\n",
    "for key, value in stats.items():\n",
    "    print(\"*\", key, \":\", value)"
   ]
  },
  {
   "cell_type": "code",
   "execution_count": 202,
   "id": "57425590-f6e1-42b6-af4e-979ec12183c8",
   "metadata": {},
   "outputs": [
    {
     "name": "stdout",
     "output_type": "stream",
     "text": [
      "~ ~ ~ Veri yaklaşık normal dağılıma uygundur. ~ ~ ~\n"
     ]
    }
   ],
   "source": [
    "# Normallik Testi\n",
    "print(\"~ ~ ~ Veri yaklaşık normal dağılıma uygundur. ~ ~ ~\" \n",
    "      if np.mean((test_scores - np.mean(test_scores))/np.std(test_scores) < 2) > 0.95 \n",
    "      else \"Veri normal dağılıma uygun olmayabilir.\")"
   ]
  },
  {
   "cell_type": "code",
   "execution_count": null,
   "id": "9276a10d-590b-4c55-838f-1f804b6b1d1b",
   "metadata": {},
   "outputs": [],
   "source": [
    "## 📌 2. Pandas Bölümü\n",
    "\"\"\"\n",
    "Bir CSV dosyası oluşturun ya da aşağıdaki gibi örnek bir DataFrame hazırlayın:\n",
    "    Öğrenci\tYaş\tBölüm\t   Matematik\tFizik\tKimya\n",
    "    Ali\t    20\tBilgisayar\t70\t         65\t     80\n",
    "    Ayşe\t21\tFizik\t    60\t         75\t     85\n",
    "    Mehmet\t19\tKimya\t    80\t         70\t     65\n",
    "    Zeynep\t22\tBilgisayar\t90\t         85\t     95\n",
    "    Ahmet\t20\tFizik\t    55\t         60\t     70\n",
    "•\tGörevler:\n",
    "\t1. Veri setini Pandas DataFrame olarak oluşturun.\n",
    "\t2. Her ders için ortalama puanı bulun.\n",
    "\t3. En yüksek matematik notunu alan öğrenciyi bulun.\n",
    "\t4. Her öğrencinin not ortalamasını hesaplayan yeni bir sütun ekleyin.\n",
    "\t5. Bölümlere göre gruplayarak her bölümün ortalama başarılarını hesaplayın.\n",
    "\t6. Ortalaması 70’in üzerinde olan öğrencileri filtreleyin.\n",
    "\"\"\""
   ]
  },
  {
   "cell_type": "code",
   "execution_count": 204,
   "id": "4b5339ea-4a25-466b-a78c-e3f2e969cef1",
   "metadata": {},
   "outputs": [
    {
     "data": {
      "text/html": [
       "<div>\n",
       "<style scoped>\n",
       "    .dataframe tbody tr th:only-of-type {\n",
       "        vertical-align: middle;\n",
       "    }\n",
       "\n",
       "    .dataframe tbody tr th {\n",
       "        vertical-align: top;\n",
       "    }\n",
       "\n",
       "    .dataframe thead th {\n",
       "        text-align: right;\n",
       "    }\n",
       "</style>\n",
       "<table border=\"1\" class=\"dataframe\">\n",
       "  <thead>\n",
       "    <tr style=\"text-align: right;\">\n",
       "      <th></th>\n",
       "      <th>Ogrenci</th>\n",
       "      <th>Yas</th>\n",
       "      <th>Bolum</th>\n",
       "      <th>Matematik</th>\n",
       "      <th>Fizik</th>\n",
       "      <th>Kimya</th>\n",
       "    </tr>\n",
       "  </thead>\n",
       "  <tbody>\n",
       "    <tr>\n",
       "      <th>0</th>\n",
       "      <td>Ali</td>\n",
       "      <td>20</td>\n",
       "      <td>Bilgisayar</td>\n",
       "      <td>70</td>\n",
       "      <td>65</td>\n",
       "      <td>80</td>\n",
       "    </tr>\n",
       "    <tr>\n",
       "      <th>1</th>\n",
       "      <td>Ayşe</td>\n",
       "      <td>21</td>\n",
       "      <td>Fizik</td>\n",
       "      <td>60</td>\n",
       "      <td>75</td>\n",
       "      <td>85</td>\n",
       "    </tr>\n",
       "    <tr>\n",
       "      <th>2</th>\n",
       "      <td>Mehmet</td>\n",
       "      <td>19</td>\n",
       "      <td>Kimya</td>\n",
       "      <td>80</td>\n",
       "      <td>70</td>\n",
       "      <td>65</td>\n",
       "    </tr>\n",
       "    <tr>\n",
       "      <th>3</th>\n",
       "      <td>Zeynep</td>\n",
       "      <td>22</td>\n",
       "      <td>Bilgisayar</td>\n",
       "      <td>90</td>\n",
       "      <td>85</td>\n",
       "      <td>95</td>\n",
       "    </tr>\n",
       "    <tr>\n",
       "      <th>4</th>\n",
       "      <td>Ahmet</td>\n",
       "      <td>20</td>\n",
       "      <td>Fizik</td>\n",
       "      <td>55</td>\n",
       "      <td>60</td>\n",
       "      <td>70</td>\n",
       "    </tr>\n",
       "  </tbody>\n",
       "</table>\n",
       "</div>"
      ],
      "text/plain": [
       "  Ogrenci  Yas       Bolum  Matematik  Fizik  Kimya\n",
       "0     Ali   20  Bilgisayar         70     65     80\n",
       "1    Ayşe   21       Fizik         60     75     85\n",
       "2  Mehmet   19       Kimya         80     70     65\n",
       "3  Zeynep   22  Bilgisayar         90     85     95\n",
       "4   Ahmet   20       Fizik         55     60     70"
      ]
     },
     "execution_count": 204,
     "metadata": {},
     "output_type": "execute_result"
    }
   ],
   "source": [
    "## 2. Pandas Bölümü\n",
    "# Gerekli Kütüphane\n",
    "import pandas as pd\n",
    "\n",
    "# Veri seti\n",
    "data = [[\"Ali\", 20, \"Bilgisayar\", 70, 65, 80],\n",
    "        [\"Ayşe\", 21, \"Fizik\", 60, 75, 85],\n",
    "        [\"Mehmet\", 19, \"Kimya\", 80, 70, 65],\n",
    "        [\"Zeynep\", 22, \"Bilgisayar\", 90, 85, 95],\n",
    "        [\"Ahmet\", 20, \"Fizik\", 55, 60, 70]]\n",
    "\n",
    "columns = [\"Ogrenci\", \"Yas\", \"Bolum\", \"Matematik\", \"Fizik\", \"Kimya\"]\n",
    "\n",
    "# 1. DataFrame\n",
    "df = pd.DataFrame(data, columns=columns)\n",
    "df"
   ]
  },
  {
   "cell_type": "code",
   "execution_count": 206,
   "id": "3b3bcf0f-33a9-434f-b324-c1192c8133d3",
   "metadata": {},
   "outputs": [
    {
     "name": "stdout",
     "output_type": "stream",
     "text": [
      "~ ~ ~ Her dersin ortalama puanı ~ ~ ~\n",
      "* Matematik : 71.0\n",
      "* Fizik : 71.0\n",
      "* Kimya : 79.0\n"
     ]
    }
   ],
   "source": [
    "# 2. Her dersin ortalama puanı\n",
    "dersler = [\"Matematik\", \"Fizik\", \"Kimya\"]\n",
    "ortalama_puanlar = df[dersler].mean()\n",
    "\n",
    "# Sonuçlar\n",
    "print(\"~ ~ ~ Her dersin ortalama puanı ~ ~ ~\")\n",
    "for ders, puan in ortalama_puanlar.items():\n",
    "    print(\"*\", ders, \":\", puan)"
   ]
  },
  {
   "cell_type": "code",
   "execution_count": 220,
   "id": "cbe84404-f179-4c07-9fc2-72f2ab28322c",
   "metadata": {},
   "outputs": [
    {
     "name": "stdout",
     "output_type": "stream",
     "text": [
      "\n",
      " ~ ~ ~ En yüksek matematik notunu alan öğrenci ~ ~ ~\n",
      "Zeynep\n"
     ]
    }
   ],
   "source": [
    "# 3. En iyi öğrenci\n",
    "en_iyi_ogrenci = df.loc[df[\"Matematik\"].idxmax(), \"Ogrenci\"]\n",
    "\n",
    "# Sonuçlar\n",
    "print(\"\\n ~ ~ ~ En yüksek matematik notunu alan öğrenci ~ ~ ~\")\n",
    "print(en_iyi_ogrenci)"
   ]
  },
  {
   "cell_type": "code",
   "execution_count": 151,
   "id": "e24cb3b8-d827-42dc-883a-457b65f1419c",
   "metadata": {},
   "outputs": [
    {
     "name": "stdout",
     "output_type": "stream",
     "text": [
      "\n",
      "~ ~ ~ Öğrencilerin Ortalama Notları ~ ~ ~\n",
      "  Ogrenci  Yas       Bolum  Matematik  Fizik  Kimya   Ortalama\n",
      "0     Ali   20  Bilgisayar         70     65     80  71.666667\n",
      "1    Ayşe   21       Fizik         60     75     85  73.333333\n",
      "2  Mehmet   19       Kimya         80     70     65  71.666667\n",
      "3  Zeynep   22  Bilgisayar         90     85     95  90.000000\n",
      "4   Ahmet   20       Fizik         55     60     70  61.666667\n"
     ]
    }
   ],
   "source": [
    "# 4. Her öğrencinin not ortalaması\n",
    "df[\"Ortalama\"] = df[dersler].mean(axis=1)\n",
    "\n",
    "# Sonuçlar\n",
    "print(\"\\n~ ~ ~ Öğrencilerin Ortalama Notları ~ ~ ~\")\n",
    "print(df)"
   ]
  },
  {
   "cell_type": "code",
   "execution_count": 153,
   "id": "c8fcfeb9-d32c-496b-972d-8105cd33a134",
   "metadata": {},
   "outputs": [
    {
     "name": "stdout",
     "output_type": "stream",
     "text": [
      "\n",
      "~ ~ ~ Bölümlere göre ortalama başarılar ~ ~ ~\n",
      "            Matematik  Fizik  Kimya\n",
      "Bolum                              \n",
      "Bilgisayar       80.0   75.0   87.5\n",
      "Fizik            57.5   67.5   77.5\n",
      "Kimya            80.0   70.0   65.0\n"
     ]
    }
   ],
   "source": [
    "# 5. Bölümlere göre ortalama başarılar\n",
    "bolum_ortalama = df.groupby(\"Bolum\")[dersler].mean()\n",
    "\n",
    "# Sonuçlar\n",
    "print(\"\\n~ ~ ~ Bölümlere göre ortalama başarılar ~ ~ ~\")\n",
    "print(bolum_ortalama)"
   ]
  },
  {
   "cell_type": "code",
   "execution_count": 188,
   "id": "18cdb94a-40a7-4319-a72e-874fc08a9dd8",
   "metadata": {},
   "outputs": [
    {
     "name": "stdout",
     "output_type": "stream",
     "text": [
      "~ ~ ~ Ortalaması 70’in üzerinde olan öğrenciler ~ ~ ~ \n",
      "  Ogrenci  Yas       Bolum  Matematik  Fizik  Kimya   Ortalama\n",
      "0     Ali   20  Bilgisayar         70     65     80  71.666667\n",
      "1    Ayşe   21       Fizik         60     75     85  73.333333\n",
      "2  Mehmet   19       Kimya         80     70     65  71.666667\n",
      "3  Zeynep   22  Bilgisayar         90     85     95  90.000000\n"
     ]
    }
   ],
   "source": [
    "# 6. Ortalaması 70’in üzerinde olan öğrenciler\n",
    "basarili_ogrenciler = df[df[\"Ortalama\"] > 70]\n",
    "\n",
    "# Sonuçlar\n",
    "print(\"~ ~ ~ Ortalaması 70’in üzerinde olan öğrenciler ~ ~ ~ \")\n",
    "print(basarili_ogrenciler)"
   ]
  },
  {
   "cell_type": "code",
   "execution_count": null,
   "id": "32d71337-1ba6-4daa-a058-56989ef777c4",
   "metadata": {},
   "outputs": [],
   "source": [
    "## 📌 3. Ek Görev (Opsiyonel)\n",
    "\"\"\"\n",
    "- Matplotlib veya Seaborn kullanarak:\n",
    "  • Her dersin dağılımını histogram ile gösterin.\n",
    "  • Bölümlere göre ortalamaları bar grafikte görselleştirin.\n",
    "\"\"\""
   ]
  },
  {
   "cell_type": "code",
   "execution_count": 224,
   "id": "fa822e56-6618-4fd0-a2db-87ee9db40b61",
   "metadata": {},
   "outputs": [
    {
     "data": {
      "image/png": "[encoded data removed]",
      "text/plain": [
       "<Figure size 1200x400 with 3 Axes>"
      ]
     },
     "metadata": {},
     "output_type": "display_data"
    }
   ],
   "source": [
    "## 3. Ek Görev\n",
    "# Matplotlib & Seaborn\n",
    "# Her dersin  histogram dağılımı\n",
    "\n",
    "# Gerekli kütüphaneler\n",
    "import matplotlib.pyplot as plt\n",
    "import seaborn as sns\n",
    "\n",
    "# Histogram grafikleri görselleştirmesi\n",
    "plt.figure(figsize=(12, 4))\n",
    "for i, ders in enumerate(dersler):\n",
    "    plt.subplot(1, 3, i+1)\n",
    "    sns.histplot(df[ders], kde=True, color=sns.color_palette(\"viridis\")[i])\n",
    "    plt.title(f\"{ders} Not Dağılımı\")\n",
    "plt.tight_layout()\n",
    "plt.show()"
   ]
  },
  {
   "cell_type": "code",
   "execution_count": 226,
   "id": "1eadf92b-abe3-47fb-b8b9-210c61a8a8df",
   "metadata": {},
   "outputs": [
    {
     "data": {
      "image/png": "[encoded data removed]",
      "text/plain": [
       "<Figure size 1200x500 with 1 Axes>"
      ]
     },
     "metadata": {},
     "output_type": "display_data"
    }
   ],
   "source": [
    "## 3. Ek Görev\n",
    "# Matplotlib & Seaborn\n",
    "# Bölümlere göre ortalamaların bar grafiği\n",
    "bolum_ortalama = df.groupby(\"Bolum\")[dersler].mean().reset_index()\n",
    "bolum_ortalama_melt = bolum_ortalama.melt(id_vars=\"Bolum\", var_name=\"Ders\", value_name=\"Ortalama\")\n",
    "\n",
    "# Bar grafiği görselleştirmesi\n",
    "plt.figure(figsize=(12,5))\n",
    "sns.barplot(x=\"Bolum\", y=\"Ortalama\", hue=\"Ders\", data=bolum_ortalama_melt, palette=\"Set2\")\n",
    "plt.title(\"Bölümlere Göre Ders Ortalamaları\")\n",
    "plt.ylabel(\"Ortalama Notlar\")\n",
    "plt.show()"
   ]
  },
  {
   "cell_type": "code",
   "execution_count": 228,
   "id": "60b3618e-d3b9-47ee-99c8-a6050e5b6665",
   "metadata": {},
   "outputs": [
    {
     "name": "stdout",
     "output_type": "stream",
     "text": [
      "mutlu kodlamalar\n",
      "           gogo\n"
     ]
    }
   ],
   "source": [
    "g = \"gogo\"\n",
    "print(f\"mutlu kodlamalar\\n{g:>15}\")  "
   ]
  }
 ],
 "metadata": {
  "kernelspec": {
   "display_name": "Python [conda env:base] *",
   "language": "python",
   "name": "conda-base-py"
  },
  "language_info": {
   "codemirror_mode": {
    "name": "ipython",
    "version": 3
   },
   "file_extension": ".py",
   "mimetype": "text/x-python",
   "name": "python",
   "nbconvert_exporter": "python",
   "pygments_lexer": "ipython3",
   "version": "3.11.5"
  }
 },
 "nbformat": 4,
 "nbformat_minor": 5
}
